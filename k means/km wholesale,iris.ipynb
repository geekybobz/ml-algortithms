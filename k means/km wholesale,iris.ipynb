{
 "cells": [
  {
   "cell_type": "markdown",
   "id": "3dbb7e16",
   "metadata": {},
   "source": [
    "# importing the required libraries"
   ]
  },
  {
   "cell_type": "code",
   "execution_count": 1,
   "id": "b19f1ff5",
   "metadata": {},
   "outputs": [],
   "source": [
    "import pandas as pd\n",
    "import numpy as np\n",
    "import matplotlib.pyplot as plt\n",
    "from sklearn.cluster import KMeans"
   ]
  },
  {
   "cell_type": "markdown",
   "id": "cc7df06f",
   "metadata": {},
   "source": [
    "## reading the datas-wholesale data"
   ]
  },
  {
   "cell_type": "code",
   "execution_count": 2,
   "id": "0bca02e3",
   "metadata": {},
   "outputs": [],
   "source": [
    "raw_data=pd.read_csv('Wholesale customers data.csv')"
   ]
  },
  {
   "cell_type": "code",
   "execution_count": 3,
   "id": "ce99c532",
   "metadata": {},
   "outputs": [
    {
     "data": {
      "text/html": [
       "<div>\n",
       "<style scoped>\n",
       "    .dataframe tbody tr th:only-of-type {\n",
       "        vertical-align: middle;\n",
       "    }\n",
       "\n",
       "    .dataframe tbody tr th {\n",
       "        vertical-align: top;\n",
       "    }\n",
       "\n",
       "    .dataframe thead th {\n",
       "        text-align: right;\n",
       "    }\n",
       "</style>\n",
       "<table border=\"1\" class=\"dataframe\">\n",
       "  <thead>\n",
       "    <tr style=\"text-align: right;\">\n",
       "      <th></th>\n",
       "      <th>Channel</th>\n",
       "      <th>Region</th>\n",
       "      <th>Fresh</th>\n",
       "      <th>Milk</th>\n",
       "      <th>Grocery</th>\n",
       "      <th>Frozen</th>\n",
       "      <th>Detergents_Paper</th>\n",
       "      <th>Delicassen</th>\n",
       "    </tr>\n",
       "  </thead>\n",
       "  <tbody>\n",
       "    <tr>\n",
       "      <th>0</th>\n",
       "      <td>2</td>\n",
       "      <td>3</td>\n",
       "      <td>12669</td>\n",
       "      <td>9656</td>\n",
       "      <td>7561</td>\n",
       "      <td>214</td>\n",
       "      <td>2674</td>\n",
       "      <td>1338</td>\n",
       "    </tr>\n",
       "    <tr>\n",
       "      <th>1</th>\n",
       "      <td>2</td>\n",
       "      <td>3</td>\n",
       "      <td>7057</td>\n",
       "      <td>9810</td>\n",
       "      <td>9568</td>\n",
       "      <td>1762</td>\n",
       "      <td>3293</td>\n",
       "      <td>1776</td>\n",
       "    </tr>\n",
       "    <tr>\n",
       "      <th>2</th>\n",
       "      <td>2</td>\n",
       "      <td>3</td>\n",
       "      <td>6353</td>\n",
       "      <td>8808</td>\n",
       "      <td>7684</td>\n",
       "      <td>2405</td>\n",
       "      <td>3516</td>\n",
       "      <td>7844</td>\n",
       "    </tr>\n",
       "    <tr>\n",
       "      <th>3</th>\n",
       "      <td>1</td>\n",
       "      <td>3</td>\n",
       "      <td>13265</td>\n",
       "      <td>1196</td>\n",
       "      <td>4221</td>\n",
       "      <td>6404</td>\n",
       "      <td>507</td>\n",
       "      <td>1788</td>\n",
       "    </tr>\n",
       "    <tr>\n",
       "      <th>4</th>\n",
       "      <td>2</td>\n",
       "      <td>3</td>\n",
       "      <td>22615</td>\n",
       "      <td>5410</td>\n",
       "      <td>7198</td>\n",
       "      <td>3915</td>\n",
       "      <td>1777</td>\n",
       "      <td>5185</td>\n",
       "    </tr>\n",
       "  </tbody>\n",
       "</table>\n",
       "</div>"
      ],
      "text/plain": [
       "   Channel  Region  Fresh  Milk  Grocery  Frozen  Detergents_Paper  Delicassen\n",
       "0        2       3  12669  9656     7561     214              2674        1338\n",
       "1        2       3   7057  9810     9568    1762              3293        1776\n",
       "2        2       3   6353  8808     7684    2405              3516        7844\n",
       "3        1       3  13265  1196     4221    6404               507        1788\n",
       "4        2       3  22615  5410     7198    3915              1777        5185"
      ]
     },
     "execution_count": 3,
     "metadata": {},
     "output_type": "execute_result"
    }
   ],
   "source": [
    "raw_data.head()"
   ]
  },
  {
   "cell_type": "code",
   "execution_count": 4,
   "id": "fc801341",
   "metadata": {},
   "outputs": [],
   "source": [
    "data_heads=['Channel','Region','Fresh','Milk','Grocery','Frozen','Detergents_Paper','Delicassen']"
   ]
  },
  {
   "cell_type": "markdown",
   "id": "8af4e942",
   "metadata": {},
   "source": [
    "## processing the datas"
   ]
  },
  {
   "cell_type": "code",
   "execution_count": 32,
   "id": "78039575",
   "metadata": {},
   "outputs": [],
   "source": [
    "data_as_numpy=[]\n",
    "for i in data_heads:\n",
    "    sample=[]\n",
    "    for j in range(440):\n",
    "        sample.append(raw_data[i][j])\n",
    "    data_as_numpy.append(sample)\n",
    "for i in range(len(data_heads)):\n",
    "    data_as_numpy[i]/=np.max(data_as_numpy[i])\n",
    "    \n",
    "data_as_numpy=np.transpose(np.array(data_as_numpy))\n"
   ]
  },
  {
   "cell_type": "markdown",
   "id": "8f8daba5",
   "metadata": {},
   "source": [
    "## applying the  k means algorithm"
   ]
  },
  {
   "cell_type": "code",
   "execution_count": 36,
   "id": "9063ca6b",
   "metadata": {},
   "outputs": [
    {
     "data": {
      "image/png": "[encoded data removed]",
      "text/plain": [
       "<Figure size 640x480 with 1 Axes>"
      ]
     },
     "metadata": {},
     "output_type": "display_data"
    }
   ],
   "source": [
    "kmeans_kwargs = {\n",
    "\"init\": \"random\",\n",
    "\"n_init\": 10,\n",
    "\"random_state\": 1,\n",
    "}\n",
    "\n",
    "#create list to hold SSE values for each k\n",
    "sse = []\n",
    "for k in range(1, 9):\n",
    "    kmeans = KMeans(n_clusters=k, **kmeans_kwargs)\n",
    "    kmeans.fit(data_as_numpy)\n",
    "    sse.append(kmeans.inertia_)\n",
    "\n",
    "#visualize results\n",
    "plt.plot(range(1, 9), sse)\n",
    "plt.xticks(range(1, 9))\n",
    "plt.xlabel(\"Number of Clusters\")\n",
    "plt.ylabel(\"SSE\")\n",
    "plt.show()"
   ]
  },
  {
   "cell_type": "markdown",
   "id": "bcd6dab1",
   "metadata": {},
   "source": [
    "## obtaing the groups"
   ]
  },
  {
   "cell_type": "code",
   "execution_count": 38,
   "id": "0a1173ee",
   "metadata": {},
   "outputs": [
    {
     "name": "stdout",
     "output_type": "stream",
     "text": [
      "(440,)\n",
      "(440,)\n"
     ]
    }
   ],
   "source": [
    "kmeans=KMeans(n_clusters=3)\n",
    "ypredict_3=kmeans.fit_predict(data_as_numpy)\n",
    "ypredict_3.reshape((440,1))\n",
    "print(np.shape(ypredict_3))\n",
    "kmeans=KMeans(n_clusters=5)\n",
    "ypredict_5=kmeans.fit_predict(data_as_numpy)\n",
    "print(np.shape(ypredict_5))"
   ]
  },
  {
   "cell_type": "markdown",
   "id": "28064439",
   "metadata": {},
   "source": [
    "## iris data"
   ]
  },
  {
   "cell_type": "code",
   "execution_count": 41,
   "id": "dcd8769a",
   "metadata": {},
   "outputs": [],
   "source": [
    "raw_data=pd.read_csv('IRIS.csv')\n",
    "sl=np.array(raw_data['sepal_length'])\n",
    "sw=np.array(raw_data['sepal_width'])\n",
    "pl=np.array(raw_data['petal_length'])\n",
    "pw=np.array(raw_data['petal_width'])\n",
    "data=[[sl[i]/np.max(sl),sw[i]/np.max(sw),pl[i]/np.max(pl),pw[i]/np.max(pw)] for i in range(150)]\n",
    "data=np.array(data)"
   ]
  },
  {
   "cell_type": "code",
   "execution_count": 42,
   "id": "97289caa",
   "metadata": {},
   "outputs": [
    {
     "data": {
      "image/png": "[encoded data removed]",
      "text/plain": [
       "<Figure size 640x480 with 1 Axes>"
      ]
     },
     "metadata": {},
     "output_type": "display_data"
    }
   ],
   "source": [
    "kmeans_kwargs = {\n",
    "\"init\": \"random\",\n",
    "\"n_init\": 10,\n",
    "\"random_state\": 1,\n",
    "}\n",
    "\n",
    "#create list to hold SSE values for each k\n",
    "sse = []\n",
    "for k in range(1, 11):\n",
    "    kmeans = KMeans(n_clusters=k, **kmeans_kwargs)\n",
    "    kmeans.fit(data)\n",
    "    sse.append(kmeans.inertia_)\n",
    "\n",
    "#visualize results\n",
    "plt.plot(range(1, 11), sse)\n",
    "plt.xticks(range(1, 11))\n",
    "plt.xlabel(\"Number of Clusters\")\n",
    "plt.ylabel(\"SSE\")\n",
    "plt.show()"
   ]
  }
 ],
 "metadata": {
  "kernelspec": {
   "display_name": "Python 3 (ipykernel)",
   "language": "python",
   "name": "python3"
  },
  "language_info": {
   "codemirror_mode": {
    "name": "ipython",
    "version": 3
   },
   "file_extension": ".py",
   "mimetype": "text/x-python",
   "name": "python",
   "nbconvert_exporter": "python",
   "pygments_lexer": "ipython3",
   "version": "3.10.6"
  }
 },
 "nbformat": 4,
 "nbformat_minor": 5
}
